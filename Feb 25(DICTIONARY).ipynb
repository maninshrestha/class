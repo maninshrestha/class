{
 "cells": [
  {
   "cell_type": "code",
   "execution_count": 4,
   "id": "061df0b5",
   "metadata": {},
   "outputs": [
    {
     "name": "stdout",
     "output_type": "stream",
     "text": [
      "{'a': 'Apple', 'b': 'Ball', 'c': 'Cat'}\n",
      "Apple\n",
      "<class 'dict'>\n",
      "3\n"
     ]
    }
   ],
   "source": [
    "#d = {<key>:<value>,<key>:<value>,<key>:<value>}\n",
    "d = {\"a\":\"Apple\",\"b\":\"Ball\",\"c\":\"Cat\"}\n",
    "print(d)\n",
    "print(d[\"a\"])\n",
    "print(type(d))\n",
    "print(len(d))"
   ]
  },
  {
   "cell_type": "code",
   "execution_count": 8,
   "id": "dce6dbb8",
   "metadata": {},
   "outputs": [
    {
     "name": "stdout",
     "output_type": "stream",
     "text": [
      "{'a': 'Apple', 'b': 'Ball'}\n"
     ]
    }
   ],
   "source": [
    "data = {} #empty dictionary\n",
    "data [\"a\"] = \"Apple\"\n",
    "data[\"b\"] = \"Ball\"\n",
    "print(data)"
   ]
  },
  {
   "cell_type": "code",
   "execution_count": 14,
   "id": "7b4c9fa3",
   "metadata": {},
   "outputs": [
    {
     "name": "stdout",
     "output_type": "stream",
     "text": [
      "a\n",
      "b\n",
      "Apple\n",
      "Ball\n",
      "('a', 'Apple')\n",
      "('b', 'Ball')\n"
     ]
    }
   ],
   "source": [
    "for i in data:\n",
    "    print(i)\n",
    "    \n",
    "for i in data.values():\n",
    "    print(i)\n",
    "\n",
    "for i in data.items():\n",
    "    print(i)"
   ]
  },
  {
   "cell_type": "code",
   "execution_count": 15,
   "id": "36eb0217",
   "metadata": {},
   "outputs": [
    {
     "name": "stdout",
     "output_type": "stream",
     "text": [
      "[('a', 'Apple'), ('b', 'Ball')]\n"
     ]
    }
   ],
   "source": [
    "x = []\n",
    "for i in data.items():\n",
    "    x.append(i)\n",
    "print(x)"
   ]
  },
  {
   "cell_type": "code",
   "execution_count": 16,
   "id": "f47772e2",
   "metadata": {},
   "outputs": [
    {
     "data": {
      "text/plain": [
       "{'a': 'apple', 'b': 'Ball', 'c': 'cat'}"
      ]
     },
     "execution_count": 16,
     "metadata": {},
     "output_type": "execute_result"
    }
   ],
   "source": [
    "d  = [('a','apple'),('b',\"Ball\"),('c','cat')]\n",
    "dict(d)"
   ]
  },
  {
   "cell_type": "code",
   "execution_count": 19,
   "id": "7740b13e",
   "metadata": {},
   "outputs": [
    {
     "name": "stdout",
     "output_type": "stream",
     "text": [
      "{'b': 'ball', 'c': 'cat'}\n",
      "{}\n"
     ]
    }
   ],
   "source": [
    "d = {'a':'apple','b':'ball','c':'cat'}\n",
    "del d['a']\n",
    "print(d)\n",
    "d.clear()\n",
    "print(d)"
   ]
  },
  {
   "cell_type": "code",
   "execution_count": 20,
   "id": "3f5edb6b",
   "metadata": {},
   "outputs": [
    {
     "data": {
      "text/plain": [
       "{'a': 'apple', 'c': 'cat', 'A': 'Apple'}"
      ]
     },
     "execution_count": 20,
     "metadata": {},
     "output_type": "execute_result"
    }
   ],
   "source": [
    "d = {'a':'apple','b':'ball','c':'cat','A':'Apple'}\n",
    "d.pop('b')\n",
    "d"
   ]
  },
  {
   "cell_type": "code",
   "execution_count": 21,
   "id": "e081856f",
   "metadata": {},
   "outputs": [
    {
     "name": "stdout",
     "output_type": "stream",
     "text": [
      "Enter the value of n=2\n",
      "Enter name=Ram\n",
      "Enter phone=77888\n",
      "Enter name=Shyam\n",
      "Enter phone=333\n",
      "{'Ram': 77888, 'Shyam': 333}\n"
     ]
    }
   ],
   "source": [
    "info = {}\n",
    "n = int(input(\"Enter the value of n=\"))\n",
    "for i in range(n):\n",
    "    name = input(\"Enter name=\")\n",
    "    phone = int(input(\"Enter phone=\"))\n",
    "    info[name] = phone\n",
    "\n",
    "print(info)"
   ]
  },
  {
   "cell_type": "code",
   "execution_count": 22,
   "id": "a10fb398",
   "metadata": {},
   "outputs": [
    {
     "data": {
      "text/plain": [
       "{'Ram': [77888, 98999], 'Shyam': [333, 90909]}"
      ]
     },
     "execution_count": 22,
     "metadata": {},
     "output_type": "execute_result"
    }
   ],
   "source": [
    "a = {'Ram': [77888,98999], 'Shyam': [333,90909]}\n",
    "a"
   ]
  },
  {
   "cell_type": "code",
   "execution_count": 24,
   "id": "efbd67a4",
   "metadata": {},
   "outputs": [
    {
     "name": "stdout",
     "output_type": "stream",
     "text": [
      "Enter the value of n=2\n",
      "Enter name=Rita\n",
      "Enter ntc phone=222\n",
      "Enter ncel phone=3444\n",
      "Enter name=Gita\n",
      "Enter ntc phone=334\n",
      "Enter ncel phone=345\n",
      "{'Rita': [222, 3444], 'Gita': [334, 345]}\n"
     ]
    }
   ],
   "source": [
    "info = {}\n",
    "n = int(input(\"Enter the value of n=\"))\n",
    "for i in range(n):\n",
    "    name = input(\"Enter name=\")\n",
    "    ntc_phone = int(input(\"Enter ntc phone=\"))\n",
    "    ncl_phone = int(input(\"Enter ncel phone=\"))\n",
    "    info[name] = [ntc_phone,ncl_phone]\n",
    "\n",
    "print(info)"
   ]
  },
  {
   "cell_type": "code",
   "execution_count": 26,
   "id": "67307ece",
   "metadata": {},
   "outputs": [
    {
     "data": {
      "text/plain": [
       "{'Name': 'Ram', 'Age': 34, 'Address': 'Bara'}"
      ]
     },
     "execution_count": 26,
     "metadata": {},
     "output_type": "execute_result"
    }
   ],
   "source": [
    "#dic inside list\n",
    "info = [{\"Name\":\"Ram\",\"Age\":34,\"Address\":\"Bara\"},{\"Name\":\"Shyam\",\"Age\":32,\"Address\":\"Chitwan\"}]\n",
    "info[0]"
   ]
  },
  {
   "cell_type": "code",
   "execution_count": 29,
   "id": "3a38eda5",
   "metadata": {},
   "outputs": [
    {
     "name": "stdout",
     "output_type": "stream",
     "text": [
      "(1, {'Name': 'Ram', 'Class': 10})\n",
      "(2, {'Name': 'Shyam', 'Age': 23})\n"
     ]
    }
   ],
   "source": [
    "#dict inside dict\n",
    "info = {1:{'Name':'Ram','Class':10}, 2:{'Name':'Shyam','Age':23}}\n",
    "for i in info.items():\n",
    "    print(i)"
   ]
  },
  {
   "cell_type": "code",
   "execution_count": 33,
   "id": "e684d09e",
   "metadata": {},
   "outputs": [
    {
     "name": "stdout",
     "output_type": "stream",
     "text": [
      "{1: {'Name': 'Ram', 'Class': 10}, 2: {'Name': 'Shyam', 'Age': 23}, 3: {'Name': 'Akash', 'Class': 9}}\n"
     ]
    }
   ],
   "source": [
    "info[3] = {'Name':'Akash','Class':9}\n",
    "print(info)"
   ]
  },
  {
   "cell_type": "code",
   "execution_count": 34,
   "id": "bf28972e",
   "metadata": {},
   "outputs": [
    {
     "data": {
      "text/plain": [
       "'Ram'"
      ]
     },
     "execution_count": 34,
     "metadata": {},
     "output_type": "execute_result"
    }
   ],
   "source": [
    "info[1]['Name']"
   ]
  },
  {
   "cell_type": "code",
   "execution_count": 38,
   "id": "91fcf19c",
   "metadata": {},
   "outputs": [
    {
     "ename": "SyntaxError",
     "evalue": "invalid syntax (Temp/ipykernel_9920/528074536.py, line 6)",
     "output_type": "error",
     "traceback": [
      "\u001b[1;36m  File \u001b[1;32m\"C:\\Users\\Manin\\AppData\\Local\\Temp/ipykernel_9920/528074536.py\"\u001b[1;36m, line \u001b[1;32m6\u001b[0m\n\u001b[1;33m    data[i] = ['Name':name,'class':classs]\u001b[0m\n\u001b[1;37m                     ^\u001b[0m\n\u001b[1;31mSyntaxError\u001b[0m\u001b[1;31m:\u001b[0m invalid syntax\n"
     ]
    }
   ],
   "source": [
    "data = {}\n",
    "n = int(input(\"Enter n=\"))\n",
    "for i in range(1,n+1):\n",
    "    name = input(\"Enter name=\")\n",
    "    classs = int(input(\"Enter class=\"))\n",
    "    data[i] = ['Name':name,'class':classs]\n",
    "\n",
    "data\n"
   ]
  },
  {
   "cell_type": "code",
   "execution_count": null,
   "id": "e2a06338",
   "metadata": {},
   "outputs": [],
   "source": []
  }
 ],
 "metadata": {
  "kernelspec": {
   "display_name": "Python 3 (ipykernel)",
   "language": "python",
   "name": "python3"
  },
  "language_info": {
   "codemirror_mode": {
    "name": "ipython",
    "version": 3
   },
   "file_extension": ".py",
   "mimetype": "text/x-python",
   "name": "python",
   "nbconvert_exporter": "python",
   "pygments_lexer": "ipython3",
   "version": "3.9.7"
  }
 },
 "nbformat": 4,
 "nbformat_minor": 5
}
