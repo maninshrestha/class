{
 "cells": [
  {
   "cell_type": "code",
   "execution_count": 2,
   "id": "e8f7bd27",
   "metadata": {},
   "outputs": [],
   "source": [
    "# list\n",
    "# indexing\n",
    "# multiple data\n",
    "# duplicate data\n",
    "# ordered\n",
    "# mutable"
   ]
  },
  {
   "cell_type": "code",
   "execution_count": 3,
   "id": "f7221133",
   "metadata": {},
   "outputs": [
    {
     "name": "stdout",
     "output_type": "stream",
     "text": [
      "<class 'list'>\n",
      "<class 'list'>\n"
     ]
    }
   ],
   "source": [
    "a = [\"Apple\",\"Ball\",\"Cat\",\"Dog\"]\n",
    "b = [1,2,3,4,5,6,7]\n",
    "print(type(a))\n",
    "print(type(b))"
   ]
  },
  {
   "cell_type": "code",
   "execution_count": 5,
   "id": "1fcbef4f",
   "metadata": {},
   "outputs": [
    {
     "name": "stdout",
     "output_type": "stream",
     "text": [
      "4\n",
      "Cat\n"
     ]
    }
   ],
   "source": [
    "a = [\"Apple\",\"Ball\",\"Cat\",\"Dog\"]\n",
    "print (len(a))\n",
    "print (a[2])"
   ]
  },
  {
   "cell_type": "code",
   "execution_count": 6,
   "id": "62d6ccfe",
   "metadata": {},
   "outputs": [
    {
     "name": "stdout",
     "output_type": "stream",
     "text": [
      "['Apple', 'Ball', 'Cat', 'Dog', 'Fish']\n"
     ]
    }
   ],
   "source": [
    "a = [\"Apple\",\"Ball\",\"Cat\",\"Dog\"]\n",
    "b = [\"Fish\"]\n",
    "c = a+b\n",
    "print (c)"
   ]
  },
  {
   "cell_type": "code",
   "execution_count": 9,
   "id": "6b37ba19",
   "metadata": {},
   "outputs": [
    {
     "name": "stdout",
     "output_type": "stream",
     "text": [
      "['Ant', 'Ball', 'Cat', 'Dog']\n"
     ]
    }
   ],
   "source": [
    "a = [\"Apple\",\"Ball\",\"Cat\",\"Dog\"]\n",
    "a[0] = \"Ant\"\n",
    "print (a)"
   ]
  },
  {
   "cell_type": "code",
   "execution_count": 10,
   "id": "344d14a7",
   "metadata": {},
   "outputs": [
    {
     "name": "stdout",
     "output_type": "stream",
     "text": [
      "Ant\n",
      "Ball\n",
      "Cat\n",
      "Dog\n"
     ]
    }
   ],
   "source": [
    "#printing list using for\n",
    "for i in a:\n",
    "    print(i)"
   ]
  },
  {
   "cell_type": "code",
   "execution_count": 13,
   "id": "b5d6c63f",
   "metadata": {},
   "outputs": [
    {
     "name": "stdout",
     "output_type": "stream",
     "text": [
      "ENter the value of n =5\n",
      "Enter x =This\n",
      "Enter x =is\n",
      "Enter x =a \n",
      "Enter x =list\n",
      "Enter x =okay\n",
      "['This', 'is', 'a ', 'list', 'okay']\n"
     ]
    }
   ],
   "source": [
    "data = []   # or list()\n",
    "n = int(input(\"Enter the value of n =\"))\n",
    "for i in range(n):\n",
    "    x = input(\"Enter x =\")\n",
    "    data = data + [x]   #or   data.append(s)\n",
    "    \n",
    "print(data)"
   ]
  },
  {
   "cell_type": "code",
   "execution_count": 2,
   "id": "7d81d00a",
   "metadata": {},
   "outputs": [
    {
     "name": "stdout",
     "output_type": "stream",
     "text": [
      "Enter the value of n =2\n",
      "Enter x =3\n",
      "Enter x =4\n",
      "[3, 4]\n",
      "4\n",
      "3\n",
      "7\n",
      "[3, 4]\n",
      "[4, 3]\n",
      "<class 'int'>\n"
     ]
    }
   ],
   "source": [
    "data = []   # or list()\n",
    "n = int(input(\"Enter the value of n =\"))\n",
    "for i in range(n):\n",
    "    x = int(input(\"Enter x =\"))\n",
    "    data = data + [x]   #or   data.append(s)\n",
    "    \n",
    "print(data)\n",
    "print(max(data))\n",
    "print(min(data))\n",
    "print(sum(data))\n",
    "data.sort()\n",
    "print(data)\n",
    "data.reverse()\n",
    "print(data)\n",
    "print(type(data[1]))"
   ]
  },
  {
   "cell_type": "code",
   "execution_count": 5,
   "id": "8b3b0501",
   "metadata": {},
   "outputs": [
    {
     "name": "stdout",
     "output_type": "stream",
     "text": [
      "['A', 'B', 'C', 'D', 'E']\n",
      "['A', 'C', 'E', 'G']\n"
     ]
    }
   ],
   "source": [
    "a = [\"A\", \"B\",\"C\",\"D\",\"E\",\"F\",\"G\",\"H\"]\n",
    "print(a[0:5])\n",
    "print(a[0:7:2])"
   ]
  },
  {
   "cell_type": "code",
   "execution_count": 13,
   "id": "73c2632f",
   "metadata": {},
   "outputs": [
    {
     "name": "stdout",
     "output_type": "stream",
     "text": [
      "['a', 'b', 'OKay', 'c', 'd', 'e']\n",
      "['a', 'b', 'OKay', 'c', 'd', 'e', '1', '2', '3', '4', '5']\n"
     ]
    }
   ],
   "source": [
    "#append() insert() extend()\n",
    "a = [\"a\",\"b\",\"c\",\"d\",\"e\"]\n",
    "b = [\"1\",\"2\",\"3\",\"4\",\"5\"]\n",
    "a.insert(2,\"OKay\")\n",
    "print(a)\n",
    "a.extend(b)\n",
    "print(a)"
   ]
  },
  {
   "cell_type": "code",
   "execution_count": 16,
   "id": "3b9c8e60",
   "metadata": {},
   "outputs": [
    {
     "name": "stdout",
     "output_type": "stream",
     "text": [
      "['f']\n",
      "[]\n"
     ]
    }
   ],
   "source": [
    "#del remove()\n",
    "\n",
    "a = [\"a\",\"b\",\"c\",\"d\",\"e\",\"f\"]\n",
    "del a[0]\n",
    "del a[0:4]\n",
    "print(a)\n",
    "a.remove(\"f\")\n",
    "print(a)"
   ]
  },
  {
   "cell_type": "code",
   "execution_count": 17,
   "id": "2c19557b",
   "metadata": {
    "scrolled": true
   },
   "outputs": [
    {
     "name": "stdout",
     "output_type": "stream",
     "text": [
      "['a', 'b', 'c', 'd', 'f']\n",
      "e\n"
     ]
    }
   ],
   "source": [
    "#pop()\n",
    "a = [\"a\",\"b\",\"c\",\"d\",\"e\",\"f\"]\n",
    "b = a.pop(4)\n",
    "print(a)\n",
    "print(b)"
   ]
  },
  {
   "cell_type": "code",
   "execution_count": 19,
   "id": "d1d20fed",
   "metadata": {},
   "outputs": [
    {
     "name": "stdout",
     "output_type": "stream",
     "text": [
      "['b', 'c', 'd', 'e', 'f']\n"
     ]
    }
   ],
   "source": [
    "#remove multiple data from list\n",
    "a = [\"a\",\"b\",\"c\",\"d\",\"e\",\"f\",\"a\"]\n",
    "for i in a:\n",
    "    if i == \"a\":\n",
    "        a.remove(i)\n",
    "\n",
    "print(a)"
   ]
  },
  {
   "cell_type": "code",
   "execution_count": 22,
   "id": "1a8d67e1",
   "metadata": {},
   "outputs": [
    {
     "name": "stdout",
     "output_type": "stream",
     "text": [
      "1\n",
      "3\n"
     ]
    }
   ],
   "source": [
    "#print index in list in case of multiple data\n",
    "a = [\"ant\",\"cat\",\"dog\",\"cat\"]\n",
    "l = len(a)\n",
    "for i in range(l):\n",
    "    if a[i] == \"cat\":\n",
    "        print(i)"
   ]
  },
  {
   "cell_type": "code",
   "execution_count": 4,
   "id": "4c7d5704",
   "metadata": {},
   "outputs": [
    {
     "name": "stdout",
     "output_type": "stream",
     "text": [
      "<class 'list'>\n",
      "3\n",
      "[1, 2, 3]\n",
      "1\n"
     ]
    }
   ],
   "source": [
    "#list inside list (Nested List)\n",
    "a = [[1,2,3],[4,5,6],[7,8,9]]\n",
    "print(type(a))\n",
    "len(a)\n",
    "print(len(a))\n",
    "print(a[0])\n",
    "print(a[0][0])"
   ]
  },
  {
   "cell_type": "code",
   "execution_count": 6,
   "id": "8044c15a",
   "metadata": {},
   "outputs": [
    {
     "name": "stdout",
     "output_type": "stream",
     "text": [
      "23\n"
     ]
    }
   ],
   "source": [
    "a = [[\"Ram\",34,\"Kathmandu\"],[\"Shyam\",23,\"Bhaktapur\"],[\"Sita\",45,\"Palpa\"]]\n",
    "print(a[1][1])"
   ]
  },
  {
   "cell_type": "code",
   "execution_count": 10,
   "id": "3efaffde",
   "metadata": {},
   "outputs": [
    {
     "name": "stdout",
     "output_type": "stream",
     "text": [
      "Enter n=3\n",
      "Enter name =Ram\n",
      "Enter age =12\n",
      "Enter address =Ktm\n",
      "Enter name =Sita\n",
      "Enter age =24\n",
      "Enter address =Bkt\n",
      "Enter name =Yog\n",
      "Enter age =33\n",
      "Enter address =Ltr\n",
      "[['Ram', 12, 'Ktm'], ['Sita', 24, 'Bkt'], ['Yog', 33, 'Ltr']]\n"
     ]
    }
   ],
   "source": [
    "info = []\n",
    "n = int(input(\"Enter n=\"))\n",
    "for i in range(n):\n",
    "    name = input(\"Enter name =\")\n",
    "    age = int(input(\"Enter age =\"))\n",
    "    add = input(\"Enter address =\")\n",
    "    data = [name,age,add]\n",
    "    info.append(data)\n",
    "    \n",
    "search = input{print(info)"
   ]
  },
  {
   "cell_type": "code",
   "execution_count": 15,
   "id": "ece25bf2",
   "metadata": {},
   "outputs": [
    {
     "name": "stdout",
     "output_type": "stream",
     "text": [
      "Enter name =Sita\n",
      "['Sita', 24, 'Bkt']\n"
     ]
    }
   ],
   "source": [
    "search = input(\"Enter name =\")\n",
    "for i in info:\n",
    "    if search in i:\n",
    "        print(i)"
   ]
  },
  {
   "cell_type": "code",
   "execution_count": null,
   "id": "bba143eb",
   "metadata": {},
   "outputs": [],
   "source": []
  }
 ],
 "metadata": {
  "kernelspec": {
   "display_name": "Python 3 (ipykernel)",
   "language": "python",
   "name": "python3"
  },
  "language_info": {
   "codemirror_mode": {
    "name": "ipython",
    "version": 3
   },
   "file_extension": ".py",
   "mimetype": "text/x-python",
   "name": "python",
   "nbconvert_exporter": "python",
   "pygments_lexer": "ipython3",
   "version": "3.9.7"
  }
 },
 "nbformat": 4,
 "nbformat_minor": 5
}
