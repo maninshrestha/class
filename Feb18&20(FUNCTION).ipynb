{
 "cells": [
  {
   "cell_type": "code",
   "execution_count": 2,
   "id": "7f3de644",
   "metadata": {},
   "outputs": [],
   "source": [
    "# #function\n",
    "# predefined function\n",
    "# int()\n",
    "# input()\n",
    "# str()\n",
    "# float()\n",
    "# print()"
   ]
  },
  {
   "cell_type": "code",
   "execution_count": 5,
   "id": "f4530161",
   "metadata": {},
   "outputs": [],
   "source": [
    "# # user defined function syntax\n",
    "# def <function_name>():\n",
    "#     <operations>\n",
    "# <function_name>()   "
   ]
  },
  {
   "cell_type": "code",
   "execution_count": 17,
   "id": "a6e475bb",
   "metadata": {},
   "outputs": [
    {
     "name": "stdout",
     "output_type": "stream",
     "text": [
      "Hello World\n"
     ]
    }
   ],
   "source": [
    "def hello():\n",
    "    print(\"Hello World\")\n",
    "hello()"
   ]
  },
  {
   "cell_type": "code",
   "execution_count": 20,
   "id": "f4cda4d7",
   "metadata": {},
   "outputs": [
    {
     "name": "stdout",
     "output_type": "stream",
     "text": [
      "50\n"
     ]
    }
   ],
   "source": [
    "def cal():\n",
    "    l = 10       #local variable\n",
    "    b = 5        #local variable\n",
    "    a = l*b      #local variable\n",
    "    print(a)\n",
    "cal()    "
   ]
  },
  {
   "cell_type": "code",
   "execution_count": 23,
   "id": "dc78bb8a",
   "metadata": {},
   "outputs": [
    {
     "name": "stdout",
     "output_type": "stream",
     "text": [
      "50\n"
     ]
    }
   ],
   "source": [
    "l = 10\n",
    "b = 5\n",
    "def cal():\n",
    "    a = l*b\n",
    "    print(a)\n",
    "cal()\n",
    "    "
   ]
  },
  {
   "cell_type": "code",
   "execution_count": 26,
   "id": "fe49d22e",
   "metadata": {},
   "outputs": [
    {
     "ename": "SyntaxError",
     "evalue": "invalid syntax (Temp/ipykernel_10420/1201654681.py, line 3)",
     "output_type": "error",
     "traceback": [
      "\u001b[1;36m  File \u001b[1;32m\"C:\\Users\\Manin\\AppData\\Local\\Temp/ipykernel_10420/1201654681.py\"\u001b[1;36m, line \u001b[1;32m3\u001b[0m\n\u001b[1;33m    function with argument and return type\u001b[0m\n\u001b[1;37m             ^\u001b[0m\n\u001b[1;31mSyntaxError\u001b[0m\u001b[1;31m:\u001b[0m invalid syntax\n"
     ]
    }
   ],
   "source": [
    "# #argument\n",
    "# return type\n",
    "function with argument and return type\n",
    "function"
   ]
  },
  {
   "cell_type": "code",
   "execution_count": 1,
   "id": "474b12ba",
   "metadata": {},
   "outputs": [
    {
     "name": "stdout",
     "output_type": "stream",
     "text": [
      "Hello World\n"
     ]
    }
   ],
   "source": [
    "def hello():\n",
    "    x = \"Hello World\"\n",
    "    return x\n",
    "print (hello())\n"
   ]
  },
  {
   "cell_type": "code",
   "execution_count": 4,
   "id": "177ef5b1",
   "metadata": {},
   "outputs": [
    {
     "name": "stdout",
     "output_type": "stream",
     "text": [
      "Enther the value of l.20\n",
      "Enter the value of b.10\n",
      "200\n",
      "2000\n"
     ]
    }
   ],
   "source": [
    "#function with no argument and return type\n",
    "def cal():\n",
    "    l = int(input(\"Enther the value of l.\"))\n",
    "    b = int(input(\"Enter the value of b.\"))\n",
    "    a = l*b\n",
    "    return a\n",
    "\n",
    "area = cal()\n",
    "print(area)\n",
    "\n",
    "h = 10\n",
    "v = area*h\n",
    "print(v)"
   ]
  },
  {
   "cell_type": "code",
   "execution_count": 5,
   "id": "3a0fcffd",
   "metadata": {},
   "outputs": [
    {
     "name": "stdout",
     "output_type": "stream",
     "text": [
      "Enther the value of l.10\n",
      "Enter the value of b.20\n",
      "200\n"
     ]
    }
   ],
   "source": [
    "#function with argument and return type\n",
    "def cal(l,b):\n",
    "    a = l*b\n",
    "    return a\n",
    "\n",
    "l = int(input(\"Enther the value of l.\"))\n",
    "b = int(input(\"Enter the value of b.\"))\n",
    "\n",
    "area = cal(l,b)\n",
    "print(area)\n"
   ]
  },
  {
   "cell_type": "code",
   "execution_count": 12,
   "id": "0d753bb0",
   "metadata": {},
   "outputs": [
    {
     "name": "stdout",
     "output_type": "stream",
     "text": [
      "Ther area is 100\n",
      "The volume is 1000\n"
     ]
    }
   ],
   "source": [
    "def cal():\n",
    "    a = 100\n",
    "    v = 1000\n",
    "    return a,v\n",
    "\n",
    "area,volume = cal()\n",
    "print(\"Ther area is\", area)\n",
    "print(\"The volume is\", volume)"
   ]
  },
  {
   "cell_type": "code",
   "execution_count": null,
   "id": "d4a0ba65",
   "metadata": {},
   "outputs": [],
   "source": []
  }
 ],
 "metadata": {
  "kernelspec": {
   "display_name": "Python 3 (ipykernel)",
   "language": "python",
   "name": "python3"
  },
  "language_info": {
   "codemirror_mode": {
    "name": "ipython",
    "version": 3
   },
   "file_extension": ".py",
   "mimetype": "text/x-python",
   "name": "python",
   "nbconvert_exporter": "python",
   "pygments_lexer": "ipython3",
   "version": "3.9.7"
  }
 },
 "nbformat": 4,
 "nbformat_minor": 5
}
