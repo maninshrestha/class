{
 "cells": [
  {
   "cell_type": "code",
   "execution_count": 2,
   "id": "bb067989",
   "metadata": {},
   "outputs": [],
   "source": [
    "# file han\n",
    "# modes \n",
    "# r -> read\n",
    "# x-> create\n",
    "# a -> append\n",
    "# w -> write"
   ]
  },
  {
   "cell_type": "code",
   "execution_count": 4,
   "id": "bd861894",
   "metadata": {},
   "outputs": [],
   "source": [
    "# b = open('<file name>','<modes>')\n",
    "# b.close()"
   ]
  },
  {
   "cell_type": "code",
   "execution_count": 6,
   "id": "79258fe0",
   "metadata": {},
   "outputs": [
    {
     "name": "stdout",
     "output_type": "stream",
     "text": [
      "The file is already crreated.\n"
     ]
    }
   ],
   "source": [
    "try:\n",
    "    b = open('data.txt','x')\n",
    "    b.close()\n",
    "\n",
    "except:\n",
    "    print(\"The file is already crreated.\")"
   ]
  },
  {
   "cell_type": "code",
   "execution_count": 8,
   "id": "28264b95",
   "metadata": {},
   "outputs": [
    {
     "name": "stdout",
     "output_type": "stream",
     "text": [
      "1. Hellow World\n",
      "2. Hellow World\n",
      "3. Hellow World\n",
      "4. Hellow World\n",
      "5. Hellow World\n",
      "6. Hellow World\n",
      "7. Hellow World\n",
      "8. Hellow World\n",
      "9. Hellow World\n",
      "10. Hellow World\n"
     ]
    }
   ],
   "source": [
    "try:\n",
    "    file = open('data.txt','r')\n",
    "    print(file.read())\n",
    "    file.close()\n",
    "\n",
    "except:\n",
    "    print(\"There is no such file.\")\n"
   ]
  },
  {
   "cell_type": "code",
   "execution_count": 10,
   "id": "ea241b5f",
   "metadata": {},
   "outputs": [],
   "source": [
    "#write() append()\n",
    "try:\n",
    "    b = open('datas.txt','w')\n",
    "    b.write(\"Hello World\")\n",
    "    b.close\n",
    "\n",
    "except:\n",
    "    print(\"There is no such file.\")"
   ]
  },
  {
   "cell_type": "code",
   "execution_count": 13,
   "id": "e896d49b",
   "metadata": {},
   "outputs": [
    {
     "name": "stdout",
     "output_type": "stream",
     "text": [
      "The file does not exist.\n"
     ]
    }
   ],
   "source": [
    "import os\n",
    "try:\n",
    "    os.remove(\"data.txt\")\n",
    "except:\n",
    "    print(\"The file does not exist.\")"
   ]
  },
  {
   "cell_type": "code",
   "execution_count": null,
   "id": "a1ea83bf",
   "metadata": {},
   "outputs": [],
   "source": []
  }
 ],
 "metadata": {
  "kernelspec": {
   "display_name": "Python 3 (ipykernel)",
   "language": "python",
   "name": "python3"
  },
  "language_info": {
   "codemirror_mode": {
    "name": "ipython",
    "version": 3
   },
   "file_extension": ".py",
   "mimetype": "text/x-python",
   "name": "python",
   "nbconvert_exporter": "python",
   "pygments_lexer": "ipython3",
   "version": "3.9.7"
  }
 },
 "nbformat": 4,
 "nbformat_minor": 5
}
