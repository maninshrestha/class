{
 "cells": [
  {
   "cell_type": "code",
   "execution_count": 8,
   "id": "b1102fd2",
   "metadata": {
    "scrolled": true
   },
   "outputs": [
    {
     "name": "stdout",
     "output_type": "stream",
     "text": [
      "100\n",
      "89.99\n",
      "Ramesh\n",
      "True\n",
      "<class 'int'>\n",
      "<class 'float'>\n",
      "<class 'str'>\n",
      "<class 'bool'>\n",
      "<class 'int'>\n"
     ]
    }
   ],
   "source": [
    "a = 100\n",
    "b = 89.99\n",
    "c = 'Ramesh'\n",
    "d = True\n",
    "print(a)\n",
    "print(b)\n",
    "print(c)\n",
    "print(d)\n",
    "print(type(a))\n",
    "print(type(b))\n",
    "print(type(c))\n",
    "print(type(d))\n",
    "e = int(d)\n",
    "print(type(e))"
   ]
  },
  {
   "cell_type": "code",
   "execution_count": 23,
   "id": "5145b9d0",
   "metadata": {
    "scrolled": false
   },
   "outputs": [
    {
     "name": "stdout",
     "output_type": "stream",
     "text": [
      "Please enter your nameRamesh\n",
      "Please enter your age30\n",
      "Please enter your addressKathmandu\n",
      "Hello Ramesh .Your age is 30 .You live in Kathmandu\n"
     ]
    }
   ],
   "source": [
    "#WAP to accept name, age and address from user and display it\n",
    "name = input(\"Please enter your name\")\n",
    "age = int(input(\"Please enter your age\"))\n",
    "address = input(\"Please enter your address\")\n",
    "print(\"Hello \" + name + \" .Your age is \" + str(age) + \" .You live in \" + address)"
   ]
  },
  {
   "cell_type": "code",
   "execution_count": 16,
   "id": "ab2a98e4",
   "metadata": {},
   "outputs": [
    {
     "name": "stdout",
     "output_type": "stream",
     "text": [
      "Please enter the principle amout200000\n",
      "Please enter the time5\n",
      "Please enter the rate of interest10\n",
      "The interest amout is 100000.0\n"
     ]
    }
   ],
   "source": [
    "#WAP to calculate the interest rate\n",
    "principle = float(input(\"Please enter the principle amout\"))\n",
    "time = float(input(\"Please enter the time\"))\n",
    "rate = float(input(\"Please enter the rate of interest\"))\n",
    "interest = (principle*time*rate)/100\n",
    "print(\"The interest amout is\", interest)"
   ]
  },
  {
   "cell_type": "code",
   "execution_count": 26,
   "id": "dba9dd77",
   "metadata": {},
   "outputs": [
    {
     "name": "stdout",
     "output_type": "stream",
     "text": [
      "Please enter the length of rectange2\n",
      "Please enter the breadth of rectangle10\n",
      "20\n",
      "The area of the given rectangle is 20\n"
     ]
    }
   ],
   "source": [
    "#WAP to calculate the area of rectangle.\n",
    "length = int(input(\"Please enter the length of rectange\"))\n",
    "breadth = int(input(\"Please enter the breadth of rectangle\"))\n",
    "area = length*breadth\n",
    "print(area)\n",
    "print(\"The area of the given rectangle is\",area)\n"
   ]
  },
  {
   "cell_type": "code",
   "execution_count": null,
   "id": "8240fd63",
   "metadata": {},
   "outputs": [],
   "source": []
  }
 ],
 "metadata": {
  "kernelspec": {
   "display_name": "Python 3 (ipykernel)",
   "language": "python",
   "name": "python3"
  },
  "language_info": {
   "codemirror_mode": {
    "name": "ipython",
    "version": 3
   },
   "file_extension": ".py",
   "mimetype": "text/x-python",
   "name": "python",
   "nbconvert_exporter": "python",
   "pygments_lexer": "ipython3",
   "version": "3.9.7"
  }
 },
 "nbformat": 4,
 "nbformat_minor": 5
}
