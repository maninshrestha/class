{
 "cells": [
  {
   "cell_type": "code",
   "execution_count": 2,
   "id": "634eb6d8",
   "metadata": {},
   "outputs": [],
   "source": [
    "# #syntax for esle if statement\n",
    "# if <conditon>:\n",
    "#     <operations>\n",
    "# elif <condtion>:\n",
    "#       <operation>\n",
    "#         -\n",
    "#         -\n",
    "#         -\n",
    "# else:\n",
    "#             <operations>"
   ]
  },
  {
   "cell_type": "code",
   "execution_count": 3,
   "id": "ee1e3668",
   "metadata": {},
   "outputs": [
    {
     "name": "stdout",
     "output_type": "stream",
     "text": [
      "True\n"
     ]
    }
   ],
   "source": [
    "# <> == <= >= !=\n",
    "a = 18\n",
    "b = 2\n",
    "print(a>b)"
   ]
  },
  {
   "cell_type": "code",
   "execution_count": 5,
   "id": "ca6cad3e",
   "metadata": {},
   "outputs": [
    {
     "name": "stdout",
     "output_type": "stream",
     "text": [
      "a is greater.\n"
     ]
    }
   ],
   "source": [
    "a = 10\n",
    "b = 3\n",
    "if a>b:\n",
    "    print(\"a is greater.\")\n",
    "elif b>a:\n",
    "    print(\"b is greater.\")\n",
    "else:\n",
    "    print(\"a and b are equal.\")"
   ]
  },
  {
   "cell_type": "code",
   "execution_count": 6,
   "id": "2455e7c1",
   "metadata": {},
   "outputs": [
    {
     "name": "stdout",
     "output_type": "stream",
     "text": [
      "Enter the first number.10\n",
      "Enter the second number.10\n",
      "First and second number are equal.\n"
     ]
    }
   ],
   "source": [
    "a = int(input(\"Enter the first number.\"))\n",
    "b = int(input(\"Enter the second number.\"))\n",
    "if a>b:\n",
    "    print(\"First number is greater.\")\n",
    "elif b>a:\n",
    "    print(\"Second number is greater.\")\n",
    "else:\n",
    "    print(\"First and second number are equal.\")"
   ]
  },
  {
   "cell_type": "code",
   "execution_count": 7,
   "id": "e19f99d8",
   "metadata": {
    "scrolled": true
   },
   "outputs": [
    {
     "name": "stdout",
     "output_type": "stream",
     "text": [
      "Enter the value of a10\n",
      "Enter the value of b15\n",
      "Enter + for addition, - for subtraction, * for multiplication and / for division+\n",
      "25\n"
     ]
    }
   ],
   "source": [
    "#simple calculator\n",
    "a = int(input(\"Enter the value of a\"))\n",
    "b = int(input(\"Enter the value of b\"))\n",
    "o = input(\"Enter + for addition, - for subtraction, * for multiplication and / for division\")\n",
    "if o ==\"+\":\n",
    "    print(a+b)\n",
    "elif o == \"-\":\n",
    "    print(a-b)\n",
    "elif o == \"*\":\n",
    "    print(a*b)\n",
    "elif o == \"/\":\n",
    "    print(a/b)\n",
    "else:\n",
    "    print (\"Invalid operator\")"
   ]
  },
  {
   "cell_type": "code",
   "execution_count": 10,
   "id": "f5cf4421",
   "metadata": {},
   "outputs": [
    {
     "name": "stdout",
     "output_type": "stream",
     "text": [
      "True\n"
     ]
    }
   ],
   "source": [
    "# #syntax for  for OR\n",
    "# if <condition> and (condition>:\n",
    "# #                     <operation>\n",
    "\n",
    "a = True\n",
    "b = True\n",
    "print (a or b)"
   ]
  },
  {
   "cell_type": "code",
   "execution_count": 8,
   "id": "48e42467",
   "metadata": {},
   "outputs": [
    {
     "name": "stdout",
     "output_type": "stream",
     "text": [
      "False\n"
     ]
    }
   ],
   "source": [
    "# sybtax for AND\n",
    "# if <condition> and (condition>:\n",
    "#                     <operation>\n",
    "a = True\n",
    "b = False\n",
    "print(a and b)\n",
    "                   \n",
    "                    "
   ]
  },
  {
   "cell_type": "code",
   "execution_count": 2,
   "id": "f019c5a0",
   "metadata": {},
   "outputs": [
    {
     "name": "stdout",
     "output_type": "stream",
     "text": [
      "Enter the value of a20\n",
      "Enter the value of b30\n",
      "Enter + for addition, - for subtraction, * for multiplication and / for division-\n",
      "-10\n"
     ]
    }
   ],
   "source": [
    "#simple calculator\n",
    "a = int(input(\"Enter the value of a\"))\n",
    "b = int(input(\"Enter the value of b\"))\n",
    "o = input(\"Enter + for addition, - for subtraction, * for multiplication and / for division\")\n",
    "if o ==\"+\":\n",
    "    print(a+b)\n",
    "elif o == \"-\":\n",
    "    print(a-b)\n",
    "elif o == \"*\":\n",
    "    print(a*b)\n",
    "elif o == \"/\" and b!=0:\n",
    "    print(a/b)\n",
    "elif o == \"/\" and b==0:\n",
    "    print(\" is not divisible by 0\")\n",
    "else:\n",
    "    print (\"Invalid operator\")"
   ]
  },
  {
   "cell_type": "code",
   "execution_count": 12,
   "id": "72434222",
   "metadata": {},
   "outputs": [
    {
     "name": "stdout",
     "output_type": "stream",
     "text": [
      "A\n"
     ]
    }
   ],
   "source": [
    "#WAP using OR operator\n",
    "# a = True\n",
    "# b = False\n",
    "# print (a|b)\n",
    "\n",
    "percentage = 80\n",
    "if percentage > 80 or percentage == 80:\n",
    "    print (\"A\")\n",
    "    "
   ]
  },
  {
   "cell_type": "code",
   "execution_count": null,
   "id": "8a721266",
   "metadata": {},
   "outputs": [],
   "source": [
    "#nested condition\n",
    "if <condition>:\n",
    "    if <condition>:\n",
    "        <operation>"
   ]
  },
  {
   "cell_type": "code",
   "execution_count": null,
   "id": "22adb738",
   "metadata": {},
   "outputs": [],
   "source": [
    "#simple calculator\n",
    "a = int(input(\"Enter the value of a\"))\n",
    "b = int(input(\"Enter the value of b\"))\n",
    "o = input(\"Enter + for addition, - for subtraction, * for multiplication and / for division\")\n",
    "if o ==\"+\":\n",
    "    print(a+b)\n",
    "elif o == \"-\":\n",
    "    print(a-b)\n",
    "elif o == \"*\":\n",
    "    print(a*b)\n",
    "elif o == \"/\" and b!=0:\n",
    "    print(a/b)\n",
    "elif o == \"/\":\n",
    "    if b == 0:\n",
    "        print(\"The value of b cannot be 0.\")\n",
    "    else:\n",
    "        print(a/b)\n",
    "else:\n",
    "    print (\"Invalid operator\")"
   ]
  },
  {
   "cell_type": "code",
   "execution_count": 2,
   "id": "450339b8",
   "metadata": {},
   "outputs": [
    {
     "name": "stdout",
     "output_type": "stream",
     "text": [
      "Please a number.10\n",
      "The entered number is even.\n"
     ]
    }
   ],
   "source": [
    "#WAP to print whether the entered number is even or odd\n",
    "a = int(input(\"Please a number.\"))\n",
    "if a%2==0:\n",
    "    print(\"The entered number is even.\")\n",
    "else:\n",
    "    print(\"The entered number is odd.\")\n"
   ]
  },
  {
   "cell_type": "code",
   "execution_count": 1,
   "id": "581c92f2",
   "metadata": {},
   "outputs": [
    {
     "name": "stdout",
     "output_type": "stream",
     "text": [
      "Please enter the percentage of student.20\n",
      "Your grade is D\n"
     ]
    }
   ],
   "source": [
    "#WAP to find the grade of given percentage\n",
    "percentage = int(input(\"Please enter the percentage of student.\"))\n",
    "if percentage>=80:\n",
    "    print(\"Your grade is A\")\n",
    "elif percentage>=79 and percentage>=60:\n",
    "    print(\"Your grade is B\")\n",
    "elif percentage>=59 and percentage>=40:\n",
    "    print (\"Your grade is C\")\n",
    "else:\n",
    "    print (\"Your grade is D\")"
   ]
  },
  {
   "cell_type": "code",
   "execution_count": null,
   "id": "8e7ab09f",
   "metadata": {},
   "outputs": [],
   "source": []
  }
 ],
 "metadata": {
  "kernelspec": {
   "display_name": "Python 3 (ipykernel)",
   "language": "python",
   "name": "python3"
  },
  "language_info": {
   "codemirror_mode": {
    "name": "ipython",
    "version": 3
   },
   "file_extension": ".py",
   "mimetype": "text/x-python",
   "name": "python",
   "nbconvert_exporter": "python",
   "pygments_lexer": "ipython3",
   "version": "3.9.7"
  }
 },
 "nbformat": 4,
 "nbformat_minor": 5
}
