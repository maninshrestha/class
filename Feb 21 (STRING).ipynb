{
 "cells": [
  {
   "cell_type": "code",
   "execution_count": 2,
   "id": "cb197c28",
   "metadata": {},
   "outputs": [
    {
     "name": "stdout",
     "output_type": "stream",
     "text": [
      "<class 'str'>\n"
     ]
    }
   ],
   "source": [
    "a = \"Hello World\"\n",
    "print(type(a))"
   ]
  },
  {
   "cell_type": "code",
   "execution_count": 4,
   "id": "8aefea66",
   "metadata": {},
   "outputs": [
    {
     "name": "stdout",
     "output_type": "stream",
     "text": [
      "HelloWorld\n"
     ]
    }
   ],
   "source": [
    "a = \"Hello\"\n",
    "b = \"World\"\n",
    "c = a + b\n",
    "print(c)"
   ]
  },
  {
   "cell_type": "code",
   "execution_count": 6,
   "id": "bc974863",
   "metadata": {},
   "outputs": [
    {
     "name": "stdout",
     "output_type": "stream",
     "text": [
      "Hello World\n",
      "Hello World\n",
      "\n"
     ]
    }
   ],
   "source": [
    "a = \"Hello World\\n\"\n",
    "print (a*2)"
   ]
  },
  {
   "cell_type": "code",
   "execution_count": 13,
   "id": "21822640",
   "metadata": {},
   "outputs": [
    {
     "data": {
      "text/plain": [
       "'l'"
      ]
     },
     "execution_count": 13,
     "metadata": {},
     "output_type": "execute_result"
    }
   ],
   "source": [
    "a = \"Hello World\"\n",
    "a[2]"
   ]
  },
  {
   "cell_type": "code",
   "execution_count": 11,
   "id": "a011e9dd",
   "metadata": {},
   "outputs": [
    {
     "data": {
      "text/plain": [
       "'Hello'"
      ]
     },
     "execution_count": 11,
     "metadata": {},
     "output_type": "execute_result"
    }
   ],
   "source": [
    "a = \"Hello World\"\n",
    "a[0:5]"
   ]
  },
  {
   "cell_type": "code",
   "execution_count": 14,
   "id": "542d75ed",
   "metadata": {},
   "outputs": [
    {
     "data": {
      "text/plain": [
       "'HloWr'"
      ]
     },
     "execution_count": 14,
     "metadata": {},
     "output_type": "execute_result"
    }
   ],
   "source": [
    "a = \"Hello World\"\n",
    "a[0:10:2]"
   ]
  },
  {
   "cell_type": "code",
   "execution_count": 18,
   "id": "6a5c6afa",
   "metadata": {},
   "outputs": [
    {
     "name": "stdout",
     "output_type": "stream",
     "text": [
      "dlroW olleH\n"
     ]
    }
   ],
   "source": [
    "a = \"Hello World\"\n",
    "l = len(a)\n",
    "print(a[l::-1])"
   ]
  },
  {
   "cell_type": "code",
   "execution_count": 19,
   "id": "177291ef",
   "metadata": {},
   "outputs": [],
   "source": [
    "a = \"Hello World\"\n",
    "b = a[0:5]\n",
    "c = a[5:]"
   ]
  },
  {
   "cell_type": "code",
   "execution_count": 24,
   "id": "c53b890a",
   "metadata": {},
   "outputs": [
    {
     "name": "stdout",
     "output_type": "stream",
     "text": [
      "HelloWorld 10\n"
     ]
    }
   ],
   "source": [
    "#string formatting\n",
    "a = \"Hello\"\n",
    "b = \"World\"\n",
    "d = 10\n",
    "c = f\"{a}{b} {d}\"\n",
    "print(c)"
   ]
  },
  {
   "cell_type": "code",
   "execution_count": 27,
   "id": "a9b5fb74",
   "metadata": {},
   "outputs": [
    {
     "name": "stdout",
     "output_type": "stream",
     "text": [
      "Enter the value of n2\n",
      "Enter nameRam\n",
      "Enter price200\n",
      "Enter quantity2\n",
      "Enter nameShyam\n",
      "Enter price300\n",
      "Enter quantity2\n",
      "Ram 200 400\n",
      "Shyam 300 600\n",
      "\n"
     ]
    }
   ],
   "source": [
    "bill = str()\n",
    "n = int(input(\"Enter the value of n\"))\n",
    "for i in range(n):\n",
    "    name = input(\"Enter name\")\n",
    "    price = int(input(\"Enter price\"))\n",
    "    quantity = int(input(\"Enter quantity\"))\n",
    "    total = price*quantity\n",
    "    data = f\"{name} {price} {total}\\n\"\n",
    "    bill = bill+data\n",
    "\n",
    "print(bill)"
   ]
  },
  {
   "cell_type": "code",
   "execution_count": 34,
   "id": "61903e1a",
   "metadata": {},
   "outputs": [
    {
     "name": "stdout",
     "output_type": "stream",
     "text": [
      "Enter the nameRama\n",
      "NO\n"
     ]
    }
   ],
   "source": [
    "#searching\n",
    "a = \"Ram Shyam Gita Sita Nabin Sabin Nita\"\n",
    "name = input(\"Enter the name\")\n",
    "if name in a:\n",
    "    c = a.count(name)\n",
    "    print(\"YES\",c)\n",
    "\n",
    "else:\n",
    "    print(\"NO\")"
   ]
  },
  {
   "cell_type": "code",
   "execution_count": 38,
   "id": "612e11f1",
   "metadata": {},
   "outputs": [
    {
     "name": "stdout",
     "output_type": "stream",
     "text": [
      "Rama Shyam GIta Sita Nabin Sabin Nita\n",
      "Ram Shyam GIta Sita Nabin Sabin Nita\n"
     ]
    }
   ],
   "source": [
    "# #update replace\n",
    "# string-imutable\n",
    "a = \"Ram Shyam Gita Sita Nabin Sabin Nita\"\n",
    "b = a.replace(\"Ram\",\"Rama\")\n",
    "print(b)\n",
    "print(a)"
   ]
  },
  {
   "cell_type": "code",
   "execution_count": null,
   "id": "06a7bf5f",
   "metadata": {},
   "outputs": [],
   "source": [
    "# WAP to create result management system of a class (Marks,Percentage,Grade)\n",
    "class = str()\n"
   ]
  }
 ],
 "metadata": {
  "kernelspec": {
   "display_name": "Python 3 (ipykernel)",
   "language": "python",
   "name": "python3"
  },
  "language_info": {
   "codemirror_mode": {
    "name": "ipython",
    "version": 3
   },
   "file_extension": ".py",
   "mimetype": "text/x-python",
   "name": "python",
   "nbconvert_exporter": "python",
   "pygments_lexer": "ipython3",
   "version": "3.9.7"
  }
 },
 "nbformat": 4,
 "nbformat_minor": 5
}
